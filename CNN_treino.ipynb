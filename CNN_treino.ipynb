{
 "cells": [
  {
   "cell_type": "code",
   "execution_count": 1,
   "id": "471c702f-c4cc-41b4-ac37-9151ddc1849b",
   "metadata": {},
   "outputs": [],
   "source": [
    "import tensorflow as tf\n",
    "from tensorflow import keras\n",
    "from tensorflow.keras.datasets import cifar10\n",
    "import numpy as np\n",
    "import pandas as pd"
   ]
  },
  {
   "cell_type": "code",
   "execution_count": 3,
   "id": "aa3dae34-40ca-4817-bf35-d4034e3fcaf2",
   "metadata": {},
   "outputs": [
    {
     "name": "stdout",
     "output_type": "stream",
     "text": [
      "Downloading data from https://www.cs.toronto.edu/~kriz/cifar-10-python.tar.gz\n",
      "\u001b[1m170498071/170498071\u001b[0m \u001b[32m━━━━━━━━━━━━━━━━━━━━\u001b[0m\u001b[37m\u001b[0m \u001b[1m14s\u001b[0m 0us/step\n"
     ]
    }
   ],
   "source": [
    "(x_treino,y_treino) , (x_teste,y_teste) = keras.datasets.cifar10.load_data()\n"
   ]
  },
  {
   "cell_type": "code",
   "execution_count": 4,
   "id": "68f5dc34-c80f-441b-ab0b-83fa1aa4ecaf",
   "metadata": {},
   "outputs": [],
   "source": [
    "x_treino = x_treino.astype('float32')/255.0\n",
    "x_teste = x_teste.astype('float32')/255.0"
   ]
  },
  {
   "cell_type": "code",
   "execution_count": 6,
   "id": "4e1d3c9d-230d-4123-8daa-dbe58ef69e8c",
   "metadata": {},
   "outputs": [],
   "source": [
    "x_treino = np.expand_dims(x_treino, -1)\n",
    "x_teste = np.expand_dims(x_teste, -1)"
   ]
  },
  {
   "cell_type": "code",
   "execution_count": 43,
   "id": "2d20e7a1-8639-45a6-8ca5-38b72bec7f57",
   "metadata": {},
   "outputs": [],
   "source": [
    "modelo = keras.Sequential([\n",
    "#primeira camada\n",
    "    keras.layers.Conv2D(32,(3,3), activation = 'relu', input_shape = (32,32,3)),\n",
    "    keras.layers.MaxPooling2D((2,2)),\n",
    "#segunda camada\n",
    "    keras.layers.Conv2D(64,(3,3), activation = 'relu'),\n",
    "    keras.layers.Flatten(),\n",
    "#camada totalmente conectada:\n",
    "    keras.layers.Dense(64, activation = 'relu'),\n",
    "#camda de saida\n",
    "    keras.layers.Dense(10,activation = 'softmax'),\n",
    "])"
   ]
  },
  {
   "cell_type": "code",
   "execution_count": 44,
   "id": "50fc6b36-47f5-415d-921a-6945a049aad5",
   "metadata": {},
   "outputs": [],
   "source": [
    "modelo.compile(\n",
    "\n",
    "    optimizer = keras.optimizers.RMSprop(learning_rate=0.001),\n",
    "    loss = 'sparse_categorical_crossentropy', \n",
    "    metrics = ['accuracy']\n",
    "    \n",
    ")"
   ]
  },
  {
   "cell_type": "code",
   "execution_count": 45,
   "id": "97d4c882-281a-49be-96a8-a60fe0387c38",
   "metadata": {},
   "outputs": [
    {
     "name": "stdout",
     "output_type": "stream",
     "text": [
      "Epoch 1/10\n",
      "\u001b[1m1563/1563\u001b[0m \u001b[32m━━━━━━━━━━━━━━━━━━━━\u001b[0m\u001b[37m\u001b[0m \u001b[1m39s\u001b[0m 23ms/step - accuracy: 0.3796 - loss: 1.7168 - val_accuracy: 0.5630 - val_loss: 1.2486\n",
      "Epoch 2/10\n",
      "\u001b[1m1563/1563\u001b[0m \u001b[32m━━━━━━━━━━━━━━━━━━━━\u001b[0m\u001b[37m\u001b[0m \u001b[1m40s\u001b[0m 26ms/step - accuracy: 0.6071 - loss: 1.1220 - val_accuracy: 0.5765 - val_loss: 1.2218\n",
      "Epoch 3/10\n",
      "\u001b[1m1563/1563\u001b[0m \u001b[32m━━━━━━━━━━━━━━━━━━━━\u001b[0m\u001b[37m\u001b[0m \u001b[1m59s\u001b[0m 38ms/step - accuracy: 0.6708 - loss: 0.9464 - val_accuracy: 0.6612 - val_loss: 0.9770\n",
      "Epoch 4/10\n",
      "\u001b[1m1563/1563\u001b[0m \u001b[32m━━━━━━━━━━━━━━━━━━━━\u001b[0m\u001b[37m\u001b[0m \u001b[1m37s\u001b[0m 23ms/step - accuracy: 0.7107 - loss: 0.8360 - val_accuracy: 0.6554 - val_loss: 0.9845\n",
      "Epoch 5/10\n",
      "\u001b[1m1563/1563\u001b[0m \u001b[32m━━━━━━━━━━━━━━━━━━━━\u001b[0m\u001b[37m\u001b[0m \u001b[1m27s\u001b[0m 17ms/step - accuracy: 0.7408 - loss: 0.7391 - val_accuracy: 0.6752 - val_loss: 0.9690\n",
      "Epoch 6/10\n",
      "\u001b[1m1563/1563\u001b[0m \u001b[32m━━━━━━━━━━━━━━━━━━━━\u001b[0m\u001b[37m\u001b[0m \u001b[1m27s\u001b[0m 17ms/step - accuracy: 0.7739 - loss: 0.6588 - val_accuracy: 0.6693 - val_loss: 1.0139\n",
      "Epoch 7/10\n",
      "\u001b[1m1563/1563\u001b[0m \u001b[32m━━━━━━━━━━━━━━━━━━━━\u001b[0m\u001b[37m\u001b[0m \u001b[1m30s\u001b[0m 19ms/step - accuracy: 0.8025 - loss: 0.5796 - val_accuracy: 0.6880 - val_loss: 0.9776\n",
      "Epoch 8/10\n",
      "\u001b[1m1563/1563\u001b[0m \u001b[32m━━━━━━━━━━━━━━━━━━━━\u001b[0m\u001b[37m\u001b[0m \u001b[1m34s\u001b[0m 22ms/step - accuracy: 0.8271 - loss: 0.5053 - val_accuracy: 0.6585 - val_loss: 1.1760\n",
      "Epoch 9/10\n",
      "\u001b[1m1563/1563\u001b[0m \u001b[32m━━━━━━━━━━━━━━━━━━━━\u001b[0m\u001b[37m\u001b[0m \u001b[1m32s\u001b[0m 21ms/step - accuracy: 0.8479 - loss: 0.4393 - val_accuracy: 0.6856 - val_loss: 1.1032\n",
      "Epoch 10/10\n",
      "\u001b[1m1563/1563\u001b[0m \u001b[32m━━━━━━━━━━━━━━━━━━━━\u001b[0m\u001b[37m\u001b[0m \u001b[1m30s\u001b[0m 19ms/step - accuracy: 0.8683 - loss: 0.3801 - val_accuracy: 0.6834 - val_loss: 1.2184\n"
     ]
    },
    {
     "data": {
      "text/plain": [
       "<keras.src.callbacks.history.History at 0x13b9bc66e50>"
      ]
     },
     "execution_count": 45,
     "metadata": {},
     "output_type": "execute_result"
    }
   ],
   "source": [
    "modelo.fit(x_treino, y_treino, epochs=10, validation_data = (x_teste,y_teste))"
   ]
  },
  {
   "cell_type": "code",
   "execution_count": 46,
   "id": "9b6e3497-7f68-40f2-bf15-904c67bb5c8d",
   "metadata": {},
   "outputs": [
    {
     "name": "stdout",
     "output_type": "stream",
     "text": [
      "\u001b[1m313/313\u001b[0m \u001b[32m━━━━━━━━━━━━━━━━━━━━\u001b[0m\u001b[37m\u001b[0m \u001b[1m1s\u001b[0m 4ms/step - accuracy: 0.6833 - loss: 1.2021\n",
      "A acuracia do modelo com base no dataset é: 0.6834\n"
     ]
    }
   ],
   "source": [
    "loss, acuracia = modelo.evaluate(x_teste,y_teste)\n",
    "print(f\"A acuracia do modelo com base no dataset é: {acuracia:.4f}\")"
   ]
  },
  {
   "cell_type": "code",
   "execution_count": 20,
   "id": "aa15d9a8-3f64-4a75-915b-2feb5f64d8c8",
   "metadata": {},
   "outputs": [],
   "source": [
    "modelo = keras.Sequential([\n",
    "#primeira camada\n",
    "    keras.layers.Conv2D(32,(3,3), activation = 'elu', input_shape= (32,32,3)),\n",
    "    keras.layers.MaxPooling2D((2,2)),\n",
    "#segunda camada\n",
    "    keras.layers.Conv2D(64,(3,3), activation = 'elu'),\n",
    "    keras.layers.Flatten(),\n",
    "#terceiro camada\n",
    "    keras.layers.Dense(64, activation = 'elu'),\n",
    "#camada de saida\n",
    "    keras.layers.Dense(10,activation = 'softmax'),\n",
    "    \n",
    "])"
   ]
  },
  {
   "cell_type": "code",
   "execution_count": 24,
   "id": "b9f1fbb9-9dbf-4faf-9a4b-dc28ff0196b8",
   "metadata": {},
   "outputs": [],
   "source": [
    "modelo.compile(\n",
    "    optimizer = 'adam',\n",
    "    loss = 'sparse_categorical_crossentropy',\n",
    "    metrics = ['accuracy']\n",
    "\n",
    ")"
   ]
  },
  {
   "cell_type": "code",
   "execution_count": 25,
   "id": "a6d5dc21-4653-42ee-8705-9dc2a5593dcd",
   "metadata": {},
   "outputs": [
    {
     "name": "stdout",
     "output_type": "stream",
     "text": [
      "Epoch 1/5\n",
      "\u001b[1m1563/1563\u001b[0m \u001b[32m━━━━━━━━━━━━━━━━━━━━\u001b[0m\u001b[37m\u001b[0m \u001b[1m32s\u001b[0m 19ms/step - accuracy: 0.4225 - loss: 1.6491 - val_accuracy: 0.5736 - val_loss: 1.2143\n",
      "Epoch 2/5\n",
      "\u001b[1m1563/1563\u001b[0m \u001b[32m━━━━━━━━━━━━━━━━━━━━\u001b[0m\u001b[37m\u001b[0m \u001b[1m40s\u001b[0m 19ms/step - accuracy: 0.6041 - loss: 1.1413 - val_accuracy: 0.6218 - val_loss: 1.0977\n",
      "Epoch 3/5\n",
      "\u001b[1m1563/1563\u001b[0m \u001b[32m━━━━━━━━━━━━━━━━━━━━\u001b[0m\u001b[37m\u001b[0m \u001b[1m30s\u001b[0m 19ms/step - accuracy: 0.6576 - loss: 0.9850 - val_accuracy: 0.6080 - val_loss: 1.1274\n",
      "Epoch 4/5\n",
      "\u001b[1m1563/1563\u001b[0m \u001b[32m━━━━━━━━━━━━━━━━━━━━\u001b[0m\u001b[37m\u001b[0m \u001b[1m29s\u001b[0m 19ms/step - accuracy: 0.6983 - loss: 0.8700 - val_accuracy: 0.6574 - val_loss: 1.0135\n",
      "Epoch 5/5\n",
      "\u001b[1m1563/1563\u001b[0m \u001b[32m━━━━━━━━━━━━━━━━━━━━\u001b[0m\u001b[37m\u001b[0m \u001b[1m29s\u001b[0m 18ms/step - accuracy: 0.7364 - loss: 0.7644 - val_accuracy: 0.6499 - val_loss: 1.0402\n"
     ]
    },
    {
     "data": {
      "text/plain": [
       "<keras.src.callbacks.history.History at 0x13b964ed650>"
      ]
     },
     "execution_count": 25,
     "metadata": {},
     "output_type": "execute_result"
    }
   ],
   "source": [
    "modelo.fit(x_treino,y_treino, epochs = 5, validation_data = (x_teste,y_teste))"
   ]
  },
  {
   "cell_type": "code",
   "execution_count": 26,
   "id": "4c626f1d-047f-4cd9-ad9a-22a93bd7289c",
   "metadata": {},
   "outputs": [
    {
     "name": "stdout",
     "output_type": "stream",
     "text": [
      "\u001b[1m313/313\u001b[0m \u001b[32m━━━━━━━━━━━━━━━━━━━━\u001b[0m\u001b[37m\u001b[0m \u001b[1m1s\u001b[0m 5ms/step - accuracy: 0.6609 - loss: 1.0132\n",
      "\n",
      " acuracia do modelo com base no dataset: 0.6499\n"
     ]
    }
   ],
   "source": [
    "loss, acuracia = modelo.evaluate(x_teste,y_teste)\n",
    "print(f\"\\n acuracia do modelo com base no dataset: {acuracia:.4f}\")"
   ]
  },
  {
   "cell_type": "code",
   "execution_count": 30,
   "id": "b0c33a04-9ec9-4c3e-b6cb-fc32dc31a4ca",
   "metadata": {},
   "outputs": [],
   "source": [
    "modelo = keras.Sequential([\n",
    "#primeira camada\n",
    "    keras.layers.Conv2D(32,(3,3), activation= tf.nn.swish,input_shape =(32,32,3)),\n",
    "    keras.layers.MaxPooling2D((2,2)),\n",
    "#segunda camada\n",
    "    keras.layers.Conv2D(64,(3,3), activation = tf.nn.swish),\n",
    "    keras.layers.Flatten(),\n",
    "#camda de conexão\n",
    "    keras.layers.Dense(64, activation ='relu'),\n",
    "#camada de saída\n",
    "    keras.layers.Dense(32, activation= 'softmax'),\n",
    "    \n",
    "])"
   ]
  },
  {
   "cell_type": "code",
   "execution_count": 32,
   "id": "1e7472d4-ea64-4982-9e79-cb6e74870e32",
   "metadata": {},
   "outputs": [],
   "source": [
    "modelo.compile(\n",
    "    optimizer = 'adam',\n",
    "    loss = 'sparse_categorical_crossentropy',\n",
    "    metrics = ['accuracy']\n",
    ")"
   ]
  },
  {
   "cell_type": "code",
   "execution_count": 33,
   "id": "1a85528b-735e-4fb0-9cbb-b776647cc0b3",
   "metadata": {},
   "outputs": [
    {
     "name": "stdout",
     "output_type": "stream",
     "text": [
      "Epoch 1/5\n",
      "\u001b[1m1563/1563\u001b[0m \u001b[32m━━━━━━━━━━━━━━━━━━━━\u001b[0m\u001b[37m\u001b[0m \u001b[1m31s\u001b[0m 19ms/step - accuracy: 0.3563 - loss: 1.8166 - val_accuracy: 0.5190 - val_loss: 1.3420\n",
      "Epoch 2/5\n",
      "\u001b[1m1563/1563\u001b[0m \u001b[32m━━━━━━━━━━━━━━━━━━━━\u001b[0m\u001b[37m\u001b[0m \u001b[1m25s\u001b[0m 16ms/step - accuracy: 0.5546 - loss: 1.2553 - val_accuracy: 0.6047 - val_loss: 1.1313\n",
      "Epoch 3/5\n",
      "\u001b[1m1563/1563\u001b[0m \u001b[32m━━━━━━━━━━━━━━━━━━━━\u001b[0m\u001b[37m\u001b[0m \u001b[1m25s\u001b[0m 16ms/step - accuracy: 0.6234 - loss: 1.0747 - val_accuracy: 0.6257 - val_loss: 1.0779\n",
      "Epoch 4/5\n",
      "\u001b[1m1563/1563\u001b[0m \u001b[32m━━━━━━━━━━━━━━━━━━━━\u001b[0m\u001b[37m\u001b[0m \u001b[1m25s\u001b[0m 16ms/step - accuracy: 0.6678 - loss: 0.9573 - val_accuracy: 0.6205 - val_loss: 1.1182\n",
      "Epoch 5/5\n",
      "\u001b[1m1563/1563\u001b[0m \u001b[32m━━━━━━━━━━━━━━━━━━━━\u001b[0m\u001b[37m\u001b[0m \u001b[1m23s\u001b[0m 15ms/step - accuracy: 0.7018 - loss: 0.8585 - val_accuracy: 0.6463 - val_loss: 1.0277\n"
     ]
    },
    {
     "data": {
      "text/plain": [
       "<keras.src.callbacks.history.History at 0x13b9228d650>"
      ]
     },
     "execution_count": 33,
     "metadata": {},
     "output_type": "execute_result"
    }
   ],
   "source": [
    "modelo.fit(x_treino,y_treino, epochs=5, validation_data = (x_teste,y_teste))"
   ]
  },
  {
   "cell_type": "code",
   "execution_count": 34,
   "id": "558fcaa0-16e5-4161-90b3-10bef077e61c",
   "metadata": {},
   "outputs": [
    {
     "name": "stdout",
     "output_type": "stream",
     "text": [
      "\u001b[1m313/313\u001b[0m \u001b[32m━━━━━━━━━━━━━━━━━━━━\u001b[0m\u001b[37m\u001b[0m \u001b[1m1s\u001b[0m 3ms/step - accuracy: 0.6521 - loss: 1.0123\n",
      "\n",
      " Acuracia do modelo nos dados de teste: 0.6463\n"
     ]
    }
   ],
   "source": [
    "loss, acuracia = modelo.evaluate(x_teste, y_teste)\n",
    "print(f\"\\n Acuracia do modelo nos dados de teste: {acuracia:.4f}\")"
   ]
  },
  {
   "cell_type": "code",
   "execution_count": 74,
   "id": "00f5498b-5698-4141-ba01-e350283b29ea",
   "metadata": {},
   "outputs": [],
   "source": [
    "modelo = keras.Sequential([\n",
    "#primeira camada\n",
    "    keras.layers.Conv2D(32,(3,3), activation = tf.nn.gelu, input_shape=(32,32,3)),\n",
    "    keras.layers.MaxPooling2D((2,2)),\n",
    "    keras.layers.Dropout(0.3),\n",
    "#segunda camada\n",
    "    keras.layers.Conv2D(64,(3,3), activation = tf.nn.gelu),\n",
    "    keras.layers.Dropout(0.3),\n",
    "#terceira camada\n",
    "    keras.layers.Conv2D(64,(3,3),activation = tf.nn.gelu),\n",
    "    keras.layers.Dropout(0.3),\n",
    "#quarta camada\n",
    "    keras.layers.Conv2D(64,(3,3),activation = 'relu'),\n",
    "    keras.layers.MaxPooling2D((2,2)),#reduz a dimensionalidade pela metade se for 16x16 vai para 8x8\n",
    "    keras.layers.Flatten(),\n",
    "    keras.layers.Dropout(0.3),\n",
    "#camada conexão\n",
    "    keras.layers.Dense(128, activation = tf.nn.gelu),\n",
    "    keras.layers.Dropout(0.5),\n",
    "#camada de saida\n",
    "    keras.layers.Dense(32,activation = 'softmax'),\n",
    "    \n",
    "])"
   ]
  },
  {
   "cell_type": "code",
   "execution_count": 75,
   "id": "6a34eacb-3f9c-43e0-ba1d-57817e58a30f",
   "metadata": {},
   "outputs": [],
   "source": [
    "modelo.compile(\n",
    "    optimizer = keras.optimizers.Adamax(learning_rate=0.002),\n",
    "    loss = 'sparse_categorical_crossentropy',\n",
    "    metrics = ['accuracy']\n",
    ")"
   ]
  },
  {
   "cell_type": "code",
   "execution_count": null,
   "id": "a14477cc-d9c9-483f-a82a-7290d272daca",
   "metadata": {},
   "outputs": [
    {
     "name": "stdout",
     "output_type": "stream",
     "text": [
      "Epoch 1/10\n",
      "\u001b[1m1563/1563\u001b[0m \u001b[32m━━━━━━━━━━━━━━━━━━━━\u001b[0m\u001b[37m\u001b[0m \u001b[1m60s\u001b[0m 34ms/step - accuracy: 0.2404 - loss: 2.1217 - val_accuracy: 0.4664 - val_loss: 1.4892\n",
      "Epoch 2/10\n",
      "\u001b[1m1563/1563\u001b[0m \u001b[32m━━━━━━━━━━━━━━━━━━━━\u001b[0m\u001b[37m\u001b[0m \u001b[1m53s\u001b[0m 34ms/step - accuracy: 0.4475 - loss: 1.5348 - val_accuracy: 0.5465 - val_loss: 1.2838\n",
      "Epoch 3/10\n",
      "\u001b[1m1563/1563\u001b[0m \u001b[32m━━━━━━━━━━━━━━━━━━━━\u001b[0m\u001b[37m\u001b[0m \u001b[1m46s\u001b[0m 30ms/step - accuracy: 0.5132 - loss: 1.3651 - val_accuracy: 0.5809 - val_loss: 1.1911\n",
      "Epoch 4/10\n",
      "\u001b[1m1563/1563\u001b[0m \u001b[32m━━━━━━━━━━━━━━━━━━━━\u001b[0m\u001b[37m\u001b[0m \u001b[1m43s\u001b[0m 27ms/step - accuracy: 0.5493 - loss: 1.2650 - val_accuracy: 0.5960 - val_loss: 1.1359\n",
      "Epoch 5/10\n",
      "\u001b[1m1563/1563\u001b[0m \u001b[32m━━━━━━━━━━━━━━━━━━━━\u001b[0m\u001b[37m\u001b[0m \u001b[1m63s\u001b[0m 40ms/step - accuracy: 0.5714 - loss: 1.2090 - val_accuracy: 0.6283 - val_loss: 1.0495\n",
      "Epoch 6/10\n",
      "\u001b[1m1563/1563\u001b[0m \u001b[32m━━━━━━━━━━━━━━━━━━━━\u001b[0m\u001b[37m\u001b[0m \u001b[1m49s\u001b[0m 31ms/step - accuracy: 0.5948 - loss: 1.1518 - val_accuracy: 0.6469 - val_loss: 1.0001\n",
      "Epoch 7/10\n",
      "\u001b[1m1563/1563\u001b[0m \u001b[32m━━━━━━━━━━━━━━━━━━━━\u001b[0m\u001b[37m\u001b[0m \u001b[1m45s\u001b[0m 29ms/step - accuracy: 0.6080 - loss: 1.1170 - val_accuracy: 0.6312 - val_loss: 1.0371\n",
      "Epoch 8/10\n",
      "\u001b[1m1563/1563\u001b[0m \u001b[32m━━━━━━━━━━━━━━━━━━━━\u001b[0m\u001b[37m\u001b[0m \u001b[1m46s\u001b[0m 29ms/step - accuracy: 0.6145 - loss: 1.0872 - val_accuracy: 0.6675 - val_loss: 0.9340\n",
      "Epoch 9/10\n",
      "\u001b[1m1563/1563\u001b[0m \u001b[32m━━━━━━━━━━━━━━━━━━━━\u001b[0m\u001b[37m\u001b[0m \u001b[1m45s\u001b[0m 29ms/step - accuracy: 0.6261 - loss: 1.0644 - val_accuracy: 0.6698 - val_loss: 0.9366\n",
      "Epoch 10/10\n",
      "\u001b[1m1562/1563\u001b[0m \u001b[32m━━━━━━━━━━━━━━━━━━━\u001b[0m\u001b[37m━\u001b[0m \u001b[1m0s\u001b[0m 29ms/step - accuracy: 0.6410 - loss: 1.0289"
     ]
    }
   ],
   "source": [
    "modelo.fit(x_treino,y_treino,epochs=10,validation_data = (x_teste,y_teste))"
   ]
  },
  {
   "cell_type": "code",
   "execution_count": null,
   "id": "385826cd-eaa5-42f2-b6a2-a234223ef2dc",
   "metadata": {},
   "outputs": [],
   "source": [
    "loss, acuracia = modelo.evaluate(x_teste,y_teste)\n",
    "print(f\"\\n Acuracia do modelo é: {acuracia:.4f}\")"
   ]
  }
 ],
 "metadata": {
  "kernelspec": {
   "display_name": "Python 3 (ipykernel)",
   "language": "python",
   "name": "python3"
  },
  "language_info": {
   "codemirror_mode": {
    "name": "ipython",
    "version": 3
   },
   "file_extension": ".py",
   "mimetype": "text/x-python",
   "name": "python",
   "nbconvert_exporter": "python",
   "pygments_lexer": "ipython3",
   "version": "3.11.7"
  }
 },
 "nbformat": 4,
 "nbformat_minor": 5
}
